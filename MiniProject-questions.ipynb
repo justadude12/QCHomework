{
 "cells": [
  {
   "cell_type": "markdown",
   "id": "5c455b34-6125-4c0a-8c56-c47105f7046f",
   "metadata": {},
   "source": [
    "## Imports and utilities"
   ]
  },
  {
   "cell_type": "markdown",
   "id": "c0e05b16-b0f7-4665-82f3-9beaaa2b3c0c",
   "metadata": {},
   "source": [
    "Install qiskit and import the following packages"
   ]
  },
  {
   "cell_type": "code",
   "execution_count": 1,
   "id": "c5f31aa6-8e1b-4587-8c38-2eabab1f130c",
   "metadata": {},
   "outputs": [
    {
     "name": "stdout",
     "output_type": "stream",
     "text": [
      "Collecting qiskit\n",
      "  Downloading qiskit-0.43.2.tar.gz (9.1 kB)\n",
      "  Installing build dependencies ... \u001b[?25ldone\n",
      "\u001b[?25h  Getting requirements to build wheel ... \u001b[?25ldone\n",
      "\u001b[?25h  Preparing metadata (pyproject.toml) ... \u001b[?25ldone\n",
      "\u001b[?25hCollecting pylatexenc\n",
      "  Using cached pylatexenc-2.10.tar.gz (162 kB)\n",
      "  Preparing metadata (setup.py) ... \u001b[?25ldone\n",
      "\u001b[?25hCollecting qiskit-terra==0.24.1\n",
      "  Downloading qiskit_terra-0.24.1-cp311-cp311-macosx_11_0_arm64.whl (5.2 MB)\n",
      "\u001b[2K     \u001b[90m━━━━━━━━━━━━━━━━━━━━━━━━━━━━━━━━━━━━━━━━\u001b[0m \u001b[32m5.2/5.2 MB\u001b[0m \u001b[31m12.6 MB/s\u001b[0m eta \u001b[36m0:00:00\u001b[0ma \u001b[36m0:00:01\u001b[0m\n",
      "\u001b[?25hCollecting qiskit-aer==0.12.1\n",
      "  Downloading qiskit_aer-0.12.1-cp311-cp311-macosx_11_0_arm64.whl (2.1 MB)\n",
      "\u001b[2K     \u001b[90m━━━━━━━━━━━━━━━━━━━━━━━━━━━━━━━━━━━━━━━━\u001b[0m \u001b[32m2.1/2.1 MB\u001b[0m \u001b[31m14.5 MB/s\u001b[0m eta \u001b[36m0:00:00\u001b[0m00:01\u001b[0m00:01\u001b[0m\n",
      "\u001b[?25hCollecting qiskit-ibmq-provider==0.20.2\n",
      "  Using cached qiskit_ibmq_provider-0.20.2-py3-none-any.whl (241 kB)\n",
      "Collecting numpy>=1.16.3\n",
      "  Downloading numpy-1.25.0-cp311-cp311-macosx_11_0_arm64.whl (14.0 MB)\n",
      "\u001b[2K     \u001b[90m━━━━━━━━━━━━━━━━━━━━━━━━━━━━━━━━━━━━━━━━\u001b[0m \u001b[32m14.0/14.0 MB\u001b[0m \u001b[31m11.7 MB/s\u001b[0m eta \u001b[36m0:00:00\u001b[0m00:01\u001b[0m00:01\u001b[0m\n",
      "\u001b[?25hCollecting scipy>=1.0\n",
      "  Downloading scipy-1.11.1-cp311-cp311-macosx_12_0_arm64.whl (29.5 MB)\n",
      "\u001b[2K     \u001b[90m━━━━━━━━━━━━━━━━━━━━━━━━━━━━━━━━━━━━━━━━\u001b[0m \u001b[32m29.5/29.5 MB\u001b[0m \u001b[31m13.2 MB/s\u001b[0m eta \u001b[36m0:00:00\u001b[0m00:01\u001b[0m00:01\u001b[0m\n",
      "\u001b[?25hCollecting requests>=2.19\n",
      "  Downloading requests-2.31.0-py3-none-any.whl (62 kB)\n",
      "\u001b[2K     \u001b[90m━━━━━━━━━━━━━━━━━━━━━━━━━━━━━━━━━━━━━━━━\u001b[0m \u001b[32m62.6/62.6 kB\u001b[0m \u001b[31m5.8 MB/s\u001b[0m eta \u001b[36m0:00:00\u001b[0m\n",
      "\u001b[?25hCollecting requests-ntlm<=1.1.0\n",
      "  Using cached requests_ntlm-1.1.0-py2.py3-none-any.whl (5.7 kB)\n",
      "Collecting numpy>=1.16.3\n",
      "  Downloading numpy-1.23.5-cp311-cp311-macosx_11_0_arm64.whl (13.3 MB)\n",
      "\u001b[2K     \u001b[90m━━━━━━━━━━━━━━━━━━━━━━━━━━━━━━━━━━━━━━━━\u001b[0m \u001b[32m13.3/13.3 MB\u001b[0m \u001b[31m6.3 MB/s\u001b[0m eta \u001b[36m0:00:00\u001b[0m00:01\u001b[0m00:01\u001b[0m\n",
      "\u001b[?25hCollecting urllib3>=1.21.1\n",
      "  Downloading urllib3-2.0.3-py3-none-any.whl (123 kB)\n",
      "\u001b[2K     \u001b[90m━━━━━━━━━━━━━━━━━━━━━━━━━━━━━━━━━━━━━━━\u001b[0m \u001b[32m123.6/123.6 kB\u001b[0m \u001b[31m5.2 MB/s\u001b[0m eta \u001b[36m0:00:00\u001b[0m\n",
      "\u001b[?25hRequirement already satisfied: python-dateutil>=2.8.0 in /Users/ventura/Library/Python/3.11/lib/python/site-packages (from qiskit-ibmq-provider==0.20.2->qiskit) (2.8.2)\n",
      "Collecting websocket-client>=1.5.1\n",
      "  Downloading websocket_client-1.6.1-py3-none-any.whl (56 kB)\n",
      "\u001b[2K     \u001b[90m━━━━━━━━━━━━━━━━━━━━━━━━━━━━━━━━━━━━━━━━\u001b[0m \u001b[32m56.9/56.9 kB\u001b[0m \u001b[31m4.8 MB/s\u001b[0m eta \u001b[36m0:00:00\u001b[0m\n",
      "\u001b[?25hCollecting websockets>=10.0\n",
      "  Downloading websockets-11.0.3-cp311-cp311-macosx_11_0_arm64.whl (121 kB)\n",
      "\u001b[2K     \u001b[90m━━━━━━━━━━━━━━━━━━━━━━━━━━━━━━━━━━━━━━━\u001b[0m \u001b[32m121.0/121.0 kB\u001b[0m \u001b[31m4.8 MB/s\u001b[0m eta \u001b[36m0:00:00\u001b[0m\n",
      "\u001b[?25hCollecting rustworkx>=0.12.0\n",
      "  Downloading rustworkx-0.13.0-cp311-cp311-macosx_11_0_arm64.whl (1.5 MB)\n",
      "\u001b[2K     \u001b[90m━━━━━━━━━━━━━━━━━━━━━━━━━━━━━━━━━━━━━━━━\u001b[0m \u001b[32m1.5/1.5 MB\u001b[0m \u001b[31m7.9 MB/s\u001b[0m eta \u001b[36m0:00:00\u001b[0m00:01\u001b[0m00:01\u001b[0mm\n",
      "\u001b[?25hCollecting ply>=3.10\n",
      "  Using cached ply-3.11-py2.py3-none-any.whl (49 kB)\n",
      "Requirement already satisfied: psutil>=5 in /Users/ventura/Library/Python/3.11/lib/python/site-packages (from qiskit-terra==0.24.1->qiskit) (5.9.5)\n",
      "Collecting sympy>=1.3\n",
      "  Downloading sympy-1.12-py3-none-any.whl (5.7 MB)\n",
      "\u001b[2K     \u001b[90m━━━━━━━━━━━━━━━━━━━━━━━━━━━━━━━━━━━━━━━━\u001b[0m \u001b[32m5.7/5.7 MB\u001b[0m \u001b[31m12.9 MB/s\u001b[0m eta \u001b[36m0:00:00\u001b[0ma \u001b[36m0:00:01\u001b[0m\n",
      "\u001b[?25hCollecting dill>=0.3\n",
      "  Using cached dill-0.3.6-py3-none-any.whl (110 kB)\n",
      "Collecting stevedore>=3.0.0\n",
      "  Using cached stevedore-5.1.0-py3-none-any.whl (49 kB)\n",
      "Collecting symengine<0.10,>=0.9\n",
      "  Downloading symengine-0.9.2-cp311-cp311-macosx_11_0_arm64.whl (16.0 MB)\n",
      "\u001b[2K     \u001b[90m━━━━━━━━━━━━━━━━━━━━━━━━━━━━━━━━━━━━━━━━\u001b[0m \u001b[32m16.0/16.0 MB\u001b[0m \u001b[31m11.7 MB/s\u001b[0m eta \u001b[36m0:00:00\u001b[0m00:01\u001b[0m00:01\u001b[0m\n",
      "\u001b[?25hRequirement already satisfied: six>=1.5 in /Users/ventura/Library/Python/3.11/lib/python/site-packages (from python-dateutil>=2.8.0->qiskit-ibmq-provider==0.20.2->qiskit) (1.16.0)\n",
      "Collecting charset-normalizer<4,>=2\n",
      "  Downloading charset_normalizer-3.1.0-cp311-cp311-macosx_11_0_arm64.whl (121 kB)\n",
      "\u001b[2K     \u001b[90m━━━━━━━━━━━━━━━━━━━━━━━━━━━━━━━━━━━━━━━\u001b[0m \u001b[32m121.7/121.7 kB\u001b[0m \u001b[31m7.7 MB/s\u001b[0m eta \u001b[36m0:00:00\u001b[0m\n",
      "\u001b[?25hCollecting idna<4,>=2.5\n",
      "  Using cached idna-3.4-py3-none-any.whl (61 kB)\n",
      "Collecting certifi>=2017.4.17\n",
      "  Downloading certifi-2023.5.7-py3-none-any.whl (156 kB)\n",
      "\u001b[2K     \u001b[90m━━━━━━━━━━━━━━━━━━━━━━━━━━━━━━━━━━━━━━━\u001b[0m \u001b[32m157.0/157.0 kB\u001b[0m \u001b[31m7.8 MB/s\u001b[0m eta \u001b[36m0:00:00\u001b[0m\n",
      "\u001b[?25hCollecting ntlm-auth>=1.0.2\n",
      "  Using cached ntlm_auth-1.5.0-py2.py3-none-any.whl (29 kB)\n",
      "Collecting cryptography>=1.3\n",
      "  Downloading cryptography-41.0.1-cp37-abi3-macosx_10_12_universal2.whl (5.3 MB)\n",
      "\u001b[2K     \u001b[90m━━━━━━━━━━━━━━━━━━━━━━━━━━━━━━━━━━━━━━━━\u001b[0m \u001b[32m5.3/5.3 MB\u001b[0m \u001b[31m16.1 MB/s\u001b[0m eta \u001b[36m0:00:00\u001b[0ma \u001b[36m0:00:01\u001b[0m\n",
      "\u001b[?25hCollecting pbr!=2.1.0,>=2.0.0\n",
      "  Using cached pbr-5.11.1-py2.py3-none-any.whl (112 kB)\n",
      "Collecting mpmath>=0.19\n",
      "  Downloading mpmath-1.3.0-py3-none-any.whl (536 kB)\n",
      "\u001b[2K     \u001b[90m━━━━━━━━━━━━━━━━━━━━━━━━━━━━━━━━━━━━━━\u001b[0m \u001b[32m536.2/536.2 kB\u001b[0m \u001b[31m13.1 MB/s\u001b[0m eta \u001b[36m0:00:00\u001b[0ma \u001b[36m0:00:01\u001b[0m\n",
      "\u001b[?25hCollecting cffi>=1.12\n",
      "  Downloading cffi-1.15.1-cp311-cp311-macosx_11_0_arm64.whl (174 kB)\n",
      "\u001b[2K     \u001b[90m━━━━━━━━━━━━━━━━━━━━━━━━━━━━━━━━━━━━━━━\u001b[0m \u001b[32m174.2/174.2 kB\u001b[0m \u001b[31m7.1 MB/s\u001b[0m eta \u001b[36m0:00:00\u001b[0m\n",
      "\u001b[?25hCollecting pycparser\n",
      "  Using cached pycparser-2.21-py2.py3-none-any.whl (118 kB)\n",
      "Building wheels for collected packages: qiskit, pylatexenc\n",
      "  Building wheel for qiskit (pyproject.toml) ... \u001b[?25ldone\n",
      "\u001b[?25h  Created wheel for qiskit: filename=qiskit-0.43.2-py3-none-any.whl size=7639 sha256=a21b44bc1df6598156ec80d15e3110b21ccb2e6b1559ae22c62c599fcaae9ba0\n",
      "  Stored in directory: /Users/ventura/Library/Caches/pip/wheels/3c/74/15/334e9cb61e324884f6065e2acc72ee6d62e50def76903700dc\n",
      "  Building wheel for pylatexenc (setup.py) ... \u001b[?25ldone\n",
      "\u001b[?25h  Created wheel for pylatexenc: filename=pylatexenc-2.10-py3-none-any.whl size=136819 sha256=2f185a10f8cd9a0905c21f1ba944304f47eadebddceda9c5f343d14c65fc1ba9\n",
      "  Stored in directory: /Users/ventura/Library/Caches/pip/wheels/f9/3a/c5/e0053bc7e7caf136026ff881868458df8215b51df46b402801\n",
      "Successfully built qiskit pylatexenc\n",
      "Installing collected packages: pylatexenc, ply, mpmath, websockets, websocket-client, urllib3, sympy, symengine, pycparser, pbr, numpy, ntlm-auth, idna, dill, charset-normalizer, certifi, stevedore, scipy, rustworkx, requests, cffi, qiskit-terra, cryptography, requests-ntlm, qiskit-aer, qiskit-ibmq-provider, qiskit\n",
      "Successfully installed certifi-2023.5.7 cffi-1.15.1 charset-normalizer-3.1.0 cryptography-41.0.1 dill-0.3.6 idna-3.4 mpmath-1.3.0 ntlm-auth-1.5.0 numpy-1.23.5 pbr-5.11.1 ply-3.11 pycparser-2.21 pylatexenc-2.10 qiskit-0.43.2 qiskit-aer-0.12.1 qiskit-ibmq-provider-0.20.2 qiskit-terra-0.24.1 requests-2.31.0 requests-ntlm-1.1.0 rustworkx-0.13.0 scipy-1.11.1 stevedore-5.1.0 symengine-0.9.2 sympy-1.12 urllib3-2.0.3 websocket-client-1.6.1 websockets-11.0.3\n",
      "\n",
      "\u001b[1m[\u001b[0m\u001b[34;49mnotice\u001b[0m\u001b[1;39;49m]\u001b[0m\u001b[39;49m A new release of pip available: \u001b[0m\u001b[31;49m22.3.1\u001b[0m\u001b[39;49m -> \u001b[0m\u001b[32;49m23.1.2\u001b[0m\n",
      "\u001b[1m[\u001b[0m\u001b[34;49mnotice\u001b[0m\u001b[1;39;49m]\u001b[0m\u001b[39;49m To update, run: \u001b[0m\u001b[32;49mpython3.11 -m pip install --upgrade pip\u001b[0m\n",
      "Note: you may need to restart the kernel to use updated packages.\n"
     ]
    }
   ],
   "source": [
    "pip install qiskit pylatexenc"
   ]
  },
  {
   "cell_type": "markdown",
   "id": "698bd144-1aaf-4d8a-8b68-c1bcd1f88b82",
   "metadata": {},
   "source": [
    "When using noto.epfl.ch, the command above may not work. Don't hesitate to read the documentation, otherwise open a shell and create an environement with Qiskit using the bash commands:\n",
    "\n",
    "```\n",
    "my_venvs_create qiskit_env\n",
    "my_venvs_activate qiskit_env\n",
    "pip install qiskit pylatexenc\n",
    "my_kernels_create py3_qiskit \"Py3 Qiskit\"\n",
    "```\n",
    "\n",
    "Once done, please make sure to use the appropriate kernel (\"py3_qiskit\")"
   ]
  },
  {
   "cell_type": "code",
   "execution_count": 2,
   "id": "f5e4a22d-3c99-415b-9f19-50c91b22cc3a",
   "metadata": {},
   "outputs": [],
   "source": [
    "from qiskit import QuantumCircuit\n",
    "from qiskit import Aer, transpile\n",
    "from qiskit.circuit.library import GroverOperator, QFT, Diagonal\n",
    "from qiskit.tools.visualization import plot_histogram\n",
    "\n",
    "import numpy as np"
   ]
  },
  {
   "cell_type": "markdown",
   "id": "d836e960-1829-4598-a005-aa159f2582c7",
   "metadata": {},
   "source": [
    "Create an instance of the simulator"
   ]
  },
  {
   "cell_type": "code",
   "execution_count": 3,
   "id": "fc09ff76-18d5-49a3-9d75-33448fe7a7ea",
   "metadata": {},
   "outputs": [],
   "source": [
    "simulator = Aer.get_backend('aer_simulator')"
   ]
  },
  {
   "cell_type": "markdown",
   "id": "e5d3b954-6306-4242-a0b4-b6e8c11ed8f9",
   "metadata": {
    "tags": []
   },
   "source": [
    "## Problem"
   ]
  },
  {
   "cell_type": "markdown",
   "id": "3cee6be1-ce0e-4f2d-aaee-736c3279881d",
   "metadata": {},
   "source": [
    "The 3-SAT problem is a well known instance of NP-complete problem class. It consists in having a list of classical bits $b_1, \\ldots, b_n$ and finding the solution of a given predicate in the form of conjunctions of three-disjunctions. For instance, here is a 3-SAT predicate:\n",
    "\\begin{equation}\n",
    "    f(x_0, x_1, x_2) = (x_0 \\lor x_1 \\lor \\lnot x_2) \\land (\\lnot x_0 \\lor \\lnot x_1 \\lor x_2) \\land ( x_0 \\lor \\lnot x_1 \\lor x_2)\n",
    "\\end{equation}\n",
    "\n",
    "One looks for solutions of $f(x_0,x_1,x_2)=1$.\n",
    "Using a Grover algorithm can help find solutions of a predicate with a quadratic speed-up over a naive exhaustive search. Another aspect is the counting problem of the number of solutions satisfying the predicate. In the following, we will implement such an algorithm using different pieces seen in previous homeworks.\n",
    "\n",
    "This miniproject is divided in 3 parts:\n",
    "1. The first part consist in designing a block $U_f$ \n",
    "2. In the second part, you will create a Grover rotation operator with the block created in the first part\n",
    "3. In the last part, you will use the quantum phase estimation algorithm to answer the counting problem\n",
    "\n"
   ]
  },
  {
   "cell_type": "markdown",
   "id": "21d1d8f2-d8bd-46e7-b283-d03a2ef4ca51",
   "metadata": {
    "tags": []
   },
   "source": [
    "### Part 1: desiging $U_f$"
   ]
  },
  {
   "cell_type": "markdown",
   "id": "e2b4780b-20a3-4b6a-9fb2-35da6de9a4dd",
   "metadata": {},
   "source": [
    "Let's consider first a simpler case to show you an example: $ g(x_0,x_1,x_2) = (\\lnot x_0 \\lor \\lnot x_1) \\land (x_2 \\lor \\lnot x_0) $ and check how to design the block $U_g$.\n",
    "**The method does not use any knowledge of the solution of the function $g$. When you will design your own circuit, you will not be allowed to use knowledge of the solution for $f$.**\n",
    "\n",
    "In this method, the following number of qubits are required for $U_g$: \n",
    "* $3$ qubits to encode each value of $x_i$ for $i \\in \\left\\{0,1,2\\right\\}$. \n",
    "* $2$ additional \"hidden\" ancilla qubits to encode the first clause: $(\\lnot x_0 \\lor \\lnot x_1)$ and the second clause: $(x_2 \\lor \\lnot x_0)$.\n",
    "* $1$ final ancilla qubit $\\lvert c \\rangle$ where we apply the transformation $\\lvert g(x_0,g_1,x_2) \\oplus c \\rangle$, as usual.\n",
    "\n",
    "Therefore, in total we require $3+2+1 = 6$ qubits. The total effect of $U_g$ can be represented by the following expression:\n",
    "\n",
    "$$U_g \\lvert x_0, x_1, x_2 \\rangle \\otimes \\lvert 0,0 \\rangle \\otimes \\lvert c \\rangle = \\lvert x_0, x_1, x_2 \\rangle \\otimes \\lvert 0,0 \\rangle \\otimes \\lvert c \\oplus g(x_0,x_1,x_2) \\rangle$$\n",
    "\n",
    "Let's create it:"
   ]
  },
  {
   "cell_type": "code",
   "execution_count": 4,
   "id": "1fe76b45-bd4f-4c7a-b368-bdb448c69316",
   "metadata": {},
   "outputs": [],
   "source": [
    "U_g = QuantumCircuit(6, name=\"U_g\")"
   ]
  },
  {
   "cell_type": "markdown",
   "id": "aa6e87ec-8266-47b2-8284-9cc1e088abe3",
   "metadata": {},
   "source": [
    "For now, the circuit is empty. We will start the first clause \"$(\\lnot x_0 \\lor \\lnot x_1)$\". We will only handle logical \"and\" gates (using CCNOT or multi-control-not) and avoid logical \"or\" gates. To this end, we use De Morgan's laws on the clause: $(\\lnot x_0 \\lor \\lnot x_1) = \\lnot (x_0 \\land x_1)$. "
   ]
  },
  {
   "cell_type": "code",
   "execution_count": 5,
   "id": "a1c1de18-6454-4dfb-9f8c-b4c9b40f0b24",
   "metadata": {},
   "outputs": [
    {
     "data": {
      "image/png": "[encoded data removed]",
      "text/plain": [
       "<Figure size 206.997x385.28 with 1 Axes>"
      ]
     },
     "execution_count": 5,
     "metadata": {},
     "output_type": "execute_result"
    }
   ],
   "source": [
    "U_g.mcx([0,1], 3) # CCX on the qubit 0 and 1 with target 3\n",
    "U_g.x(3) # at this point, we use X for the NOT operator\n",
    "\n",
    "(U_g).draw(output='mpl')"
   ]
  },
  {
   "cell_type": "markdown",
   "id": "9110645f-c8b9-40ad-9f06-e7b625106df0",
   "metadata": {},
   "source": [
    "With the same procedure on the second clause we have: $(x_2 \\lor \\lnot x_0) = \\lnot (\\lnot x_2 \\land x_0)$. Compared with the first clause, a NOT needs to be applied to $x_2$. Remember that $U_g$ leaves $\\lvert x_0,x_1,x_2 \\rangle$ unchanged, so we need to revert the NOT operator on $x_2$ at the end of the procedure."
   ]
  },
  {
   "cell_type": "code",
   "execution_count": 6,
   "id": "b6deb1a4-a7bd-441a-bbee-a3914991ffff",
   "metadata": {},
   "outputs": [
    {
     "data": {
      "image/png": "[encoded data removed]",
      "text/plain": [
       "<Figure size 327.397x385.28 with 1 Axes>"
      ]
     },
     "execution_count": 6,
     "metadata": {},
     "output_type": "execute_result"
    }
   ],
   "source": [
    "U_g.x(2) # the NOT on x_2\n",
    "\n",
    "U_g.mcx([2,0], 4) # we use CCX on the qubit 0 and 1 with target 4\n",
    "U_g.x(4) # at this point, we use X to have the initial NOT operator\n",
    "\n",
    "U_g.x(2) # IMPORTANT: we revert the NOT on x_2\n",
    "\n",
    "U_g.draw(output='mpl')"
   ]
  },
  {
   "cell_type": "markdown",
   "id": "ffc28416-e314-429e-9505-80ac3ff4302a",
   "metadata": {},
   "source": [
    "Finally, We just use the quantum logical \"and\" on the \"hidden\" ancilla qubits 3 and 4."
   ]
  },
  {
   "cell_type": "code",
   "execution_count": 7,
   "id": "ddfd0fb7-064e-4843-9293-6237cb30620c",
   "metadata": {},
   "outputs": [
    {
     "data": {
      "image/png": "[encoded data removed]",
      "text/plain": [
       "<Figure size 387.597x385.28 with 1 Axes>"
      ]
     },
     "execution_count": 7,
     "metadata": {},
     "output_type": "execute_result"
    }
   ],
   "source": [
    "U_g.mcx([3,4], 5)\n",
    "\n",
    "U_g.draw(output='mpl')"
   ]
  },
  {
   "cell_type": "markdown",
   "id": "1636656b-7101-4069-a58d-198c98aef2a4",
   "metadata": {},
   "source": [
    "Now remember that the effect of $U_g$ is the following: \n",
    "\n",
    "$$U_g \\lvert x_0, x_1, x_2 \\rangle \\otimes \\lvert 0,0 \\rangle \\otimes \\lvert c \\rangle = \\lvert x_0, x_1, x_2 \\rangle \\otimes \\lvert 0,0 \\rangle \\otimes \\lvert c \\oplus g(x_0,x_1,x_2) \\rangle$$\n",
    "\n",
    "At this point, the last ancilla qubit $c$ is properly xored, the qubits encoding for $x_i$ are also back to their initial states, but if we want to reuse the hidden qubits we also need to bring them back to $\\lvert 0,0 \\rangle$ (we will need to use $U_g$ multiple times with Grover). So we need to \"rewind\" our calculations."
   ]
  },
  {
   "cell_type": "code",
   "execution_count": 8,
   "id": "a80965b2-acb8-44a4-95b4-8ea30f894199",
   "metadata": {},
   "outputs": [
    {
     "data": {
      "image/png": "[encoded data removed]",
      "text/plain": [
       "<Figure size 628.397x385.28 with 1 Axes>"
      ]
     },
     "execution_count": 8,
     "metadata": {},
     "output_type": "execute_result"
    }
   ],
   "source": [
    "# Revert the second clause\n",
    "U_g.x(2) # IMPORTANT: we reset the NOT on x_2\n",
    "U_g.x(4) # at this point, we use X to have the initial NOT operator\n",
    "U_g.mcx([2,0], 4) # we use CCX on the qubit 0 and 1 with target 4\n",
    "U_g.x(2) # the NOT on x_2\n",
    "\n",
    "# Revert the first clause\n",
    "U_g.x(3) # at this point, we use X to have the initial NOT operator\n",
    "U_g.mcx([0,1], 3) # we use CCX on the qubit 0 and 1 with target 3\n",
    "\n",
    "U_g.draw(output='mpl')"
   ]
  },
  {
   "cell_type": "markdown",
   "id": "592740a5-5adc-4857-ae32-aef8e6ae321f",
   "metadata": {},
   "source": [
    "Now we can test our circuit and check that the last ancilla qubit yields $1$ with the proper entries. We will create a new circuit and append $U_g$:"
   ]
  },
  {
   "cell_type": "code",
   "execution_count": 9,
   "id": "0e6893bc-d3cd-4e80-8e38-cde19a1b075c",
   "metadata": {},
   "outputs": [
    {
     "data": {
      "image/png": "[encoded data removed]",
      "text/plain": [
       "<Figure size 447.797x445.48 with 1 Axes>"
      ]
     },
     "execution_count": 9,
     "metadata": {},
     "output_type": "execute_result"
    }
   ],
   "source": [
    "test_circuit = QuantumCircuit(6,4) # 6 qubits, 4 classical registers\n",
    "\n",
    "# Hadamard on the first 3 qubits x_0,x_1,x_2\n",
    "test_circuit.h([0,1,2]) \n",
    "\n",
    "# U_g is applied on qubits 0 to 5\n",
    "test_circuit.append(U_g, [0,1,2,3,4,5]) \n",
    "\n",
    "# Measurement of the qubits x_0,x_1,x_2\n",
    "test_circuit.measure(0,0)\n",
    "test_circuit.measure(1,1)\n",
    "test_circuit.measure(2,2)\n",
    "\n",
    "# Measurement of the ancilla qubit c\n",
    "test_circuit.measure(5,3)\n",
    "\n",
    "# Draw the circuit\n",
    "test_circuit.draw(output='mpl')"
   ]
  },
  {
   "cell_type": "code",
   "execution_count": 10,
   "id": "30b87ced-6751-4eb8-a4aa-7b2faf87ef66",
   "metadata": {},
   "outputs": [
    {
     "data": {
      "image/png": "[encoded data removed]",
      "text/plain": [
       "<Figure size 504x360 with 1 Axes>"
      ]
     },
     "execution_count": 10,
     "metadata": {},
     "output_type": "execute_result"
    }
   ],
   "source": [
    "# Transpile the circuit\n",
    "transpiled_circuit = transpile(test_circuit, simulator)\n",
    "\n",
    "# Run the circuit\n",
    "result = simulator.run(transpiled_circuit, shots=4096).result()\n",
    "\n",
    "# Retrieve and display the results\n",
    "counts = result.get_counts(transpiled_circuit)\n",
    "plot_histogram(counts, title='$U_g$')"
   ]
  },
  {
   "cell_type": "markdown",
   "id": "88bc62d1-6314-4013-b679-ae1edf0e9d0a",
   "metadata": {},
   "source": [
    "Now $g(x_0,x_1,x_2) = 1$ either when $(x_0=0)$ or when $(x_0=1, x_1 = 0, x_2 = 1)$. **Pay attention to the order of the bits in the previous graph**, but convince yourself that indeed, the correct solutions are displayed with the ancilla qubit set to $1$.\n",
    "\n",
    "\n",
    "Now it is your turn:"
   ]
  },
  {
   "cell_type": "markdown",
   "id": "da3d832d-7976-4661-ad7b-08f2d542a649",
   "metadata": {},
   "source": [
    "#### Question 1\n",
    "\n",
    "<span style=\"color:blue\">You will implement the $U_f$ block with the $f$ given at the beginning of the notebook. How many qubits do you need? Give your explanation by writing the effect of $U_f$</span>."
   ]
  },
  {
   "cell_type": "code",
   "execution_count": 11,
   "id": "6c0438c1-97df-4c46-89ca-b9fd934509a6",
   "metadata": {},
   "outputs": [],
   "source": [
    "N_qubits = 11 # Your Answer\n",
    "#We choose 3,7,1; but we believe it is also possible to do the circuit with 8, using 3,4,1; but it is vastly \n",
    "#longer to implement, as the single gates have to be reversed multiple times so they can be reused.\n"
   ]
  },
  {
   "cell_type": "markdown",
   "id": "b28ad758-6487-481b-9c49-d10cf3c3812c",
   "metadata": {},
   "source": [
    "_Your Explanations..._\n",
    "We need 3 qubits to encode the three variables x_i, 8 \"hidden\" ancilla qubits, 3 pairs of 2 to encode each of the 3 clauses, one to keep the first and of clause one and two, and one more to keep the and of that with the 3rd clause, that is also the ancilla c, that will keep the result of c xor g(x_0, x_1, x_2)."
   ]
  },
  {
   "cell_type": "markdown",
   "id": "5b801926-ce19-440f-9b49-5e4258c418c1",
   "metadata": {},
   "source": [
    "#### Question 2\n",
    "\n",
    "<span style=\"color:blue\">Create the circuit $U_f$ in the same spirit as $U_g$ and draw it</span>."
   ]
  },
  {
   "cell_type": "code",
   "execution_count": null,
   "id": "0fbb6c23-deeb-493a-aa0a-6b1947419be5",
   "metadata": {},
   "outputs": [],
   "source": [
    "U_f = QuantumCircuit(N_qubits, name=\"U_f\")\n",
    "\n",
    "######### (BEGIN) Your answer ##################\n",
    "\n",
    "...\n",
    "\n",
    "######### ( END ) Your answer ##################\n",
    "\n",
    "U_f.draw(output='mpl')"
   ]
  },
  {
   "cell_type": "markdown",
   "id": "7822715c-0cb0-4373-8541-d82f52ef160f",
   "metadata": {},
   "source": [
    "#### Question 3\n",
    "\n",
    "<span style=\"color:blue\">Test your U_f block, then plot the solutions, and write down all the tuples solution of $f(x)=1$. How many solutions do you have?</span>"
   ]
  },
  {
   "cell_type": "code",
   "execution_count": null,
   "id": "44b350d6-5ce0-4069-88bd-6a0d7536f1a2",
   "metadata": {},
   "outputs": [],
   "source": [
    "test_circuit = QuantumCircuit(N_qubits, 4)\n",
    "\n",
    "######### (BEGIN) Your answer ##################\n",
    "\n",
    "...\n",
    "\n",
    "######### ( END ) Your answer ##################\n",
    "\n",
    "test_circuit.draw(output='mpl')"
   ]
  },
  {
   "cell_type": "code",
   "execution_count": null,
   "id": "c88dbe1d-fbb7-4fd0-a6fd-bbff2d706bb8",
   "metadata": {},
   "outputs": [],
   "source": [
    "transpiled_circuit = transpile(test_circuit, simulator)\n",
    "\n",
    "result = simulator.run(transpiled_circuit, shots=4096).result()\n",
    "counts = result.get_counts(transpiled_circuit)\n",
    "plot_histogram(counts, title='$U_f$')"
   ]
  },
  {
   "cell_type": "markdown",
   "id": "bcde2677-b0da-4719-8d51-2c78e3e74195",
   "metadata": {},
   "source": [
    "_Write down all the tuples $(x_0,x_1,x_2)$..._"
   ]
  },
  {
   "cell_type": "code",
   "execution_count": null,
   "id": "5d8c09a1-ffef-4b75-bdb7-c0565ee31574",
   "metadata": {
    "nbgrader": {
     "grade": true,
     "grade_id": "cell-17e1bf19f1ba1c55",
     "locked": false,
     "points": 2,
     "schema_version": 3,
     "solution": true,
     "task": false
    },
    "tags": []
   },
   "outputs": [],
   "source": [
    "N_solutions = ... # Write down your number of solutions"
   ]
  },
  {
   "cell_type": "markdown",
   "id": "da505c08-c679-402a-b165-89ca8440832d",
   "metadata": {},
   "source": [
    "### Part 2: Grover Rotation operator"
   ]
  },
  {
   "cell_type": "markdown",
   "id": "87928691-f189-4607-9bea-c9f6990d136e",
   "metadata": {},
   "source": [
    "Based on your previous answer, let's calculate your theoretical $\\theta_0$ as in the course"
   ]
  },
  {
   "cell_type": "code",
   "execution_count": null,
   "id": "874b5f09-5ed5-4c2a-96fb-5dc3fb7edf97",
   "metadata": {},
   "outputs": [],
   "source": [
    "theta0 = np.arcsin(np.sqrt(N_solutions/8))\n",
    "\n",
    "print(f\"theta_0 = {theta0:0.2f}\")"
   ]
  },
  {
   "cell_type": "markdown",
   "id": "ab5b7be9-e54d-483a-b021-c5fdcba3af75",
   "metadata": {},
   "source": [
    "Now let's create the Grover rotation operator based on your $U_f$ block"
   ]
  },
  {
   "cell_type": "code",
   "execution_count": 17,
   "id": "c438157d-7211-4b92-83a2-c930d2dc5b49",
   "metadata": {},
   "outputs": [],
   "source": [
    "grover_op = GroverOperator(U_f, reflection_qubits=[0, 1, 2], name=\"G\") "
   ]
  },
  {
   "cell_type": "markdown",
   "id": "930d91e2-0154-4798-9d47-2569f47794a6",
   "metadata": {},
   "source": [
    "#### Question 4\n",
    "\n",
    "<span style=\"color:blue\">\n",
    "Remember that applying Grover operator $k$ times outputs the state:\n",
    "$$\\sin((2k+1)\\theta_0) \\lvert S \\rangle + \\cos((2k+1)\\theta_0) \\lvert P \\rangle$$\n",
    "    \n",
    "   Based on your value of $\\theta_0$ what would be a good value $k$ to run the algorithm? Explain it.\n",
    "</span>\n"
   ]
  },
  {
   "cell_type": "code",
   "execution_count": null,
   "id": "9ad8d688-0b75-41f7-98dc-110153bde1b9",
   "metadata": {},
   "outputs": [],
   "source": [
    "k = ... # Your solution"
   ]
  },
  {
   "cell_type": "markdown",
   "id": "85e64fa5-5770-4309-9943-85d5d25bf605",
   "metadata": {},
   "source": [
    "_Your explanations_"
   ]
  },
  {
   "cell_type": "markdown",
   "id": "6990a433-7dd4-476e-92f2-3aa96a668086",
   "metadata": {},
   "source": [
    "<span style=\"color:blue\">\n",
    "\n",
    "Based on your solution above, complete the Grover algorithm below, display the circuit and run the code to generate the histogram of the solutions</span>\n"
   ]
  },
  {
   "cell_type": "code",
   "execution_count": null,
   "id": "56bcc220-5870-417e-a012-031ec950f7dd",
   "metadata": {},
   "outputs": [],
   "source": [
    "grover_search_circuit = QuantumCircuit(N_qubits, 3)\n",
    "\n",
    "\n",
    "######### (BEGIN) Your answer ##################\n",
    "\n",
    "\n",
    "...\n",
    "\n",
    "\n",
    "######### ( END ) Your answer ##################\n",
    "\n",
    "# Draw the circuit\n",
    "grover_search_circuit.draw(output='mpl')"
   ]
  },
  {
   "cell_type": "code",
   "execution_count": null,
   "id": "bd91503f-18d8-4364-a62a-6ae25633f029",
   "metadata": {},
   "outputs": [],
   "source": [
    "tcircuit = transpile(grover_search_circuit, simulator)\n",
    "result = simulator.run(tcircuit, shots=4096).result()\n",
    "plot_histogram(result.get_counts(tcircuit), title='counts')"
   ]
  },
  {
   "cell_type": "markdown",
   "id": "02ec2e03-69ed-4fe7-b0d9-89d30da3870e",
   "metadata": {},
   "source": [
    "you should see that the Grover Algorithm amplifies the expected solutions."
   ]
  },
  {
   "cell_type": "markdown",
   "id": "e25d307d-a695-4aa2-8584-fbf867d64022",
   "metadata": {},
   "source": [
    "### Part 3: The Phase estimation algorithm\n"
   ]
  },
  {
   "cell_type": "markdown",
   "id": "4b53c111-144c-4b06-8b8c-fcb394fdb045",
   "metadata": {},
   "source": [
    "You have seen the quantum phase estimation algorithm in Homework 8. The idea is the following: given a block matrix $U$ with an eigenvalue $e^{2i \\pi \\alpha}$ with $\\alpha \\in (0,1)$ associated to an eigenvector $\\lvert \\phi \\rangle$ (ie $U \\lvert \\phi \\rangle = e^{2i \\pi \\alpha} \\lvert \\phi \\rangle$), it is possible to estimate $\\alpha$ with $m$ bits in base $2$ using $m$ qubits. (ie, $\\alpha = \\sum_{j=0}^{m-1} \\frac{\\alpha_j}{2^j}$ with $\\alpha_j \\in \\left\\{0, 1 \\right\\}$ )\n",
    "\n",
    "Let's implement a simplistic version with a fictitious block $U$ with only one eigenvalue $e^{2i \\pi \\alpha}$:"
   ]
  },
  {
   "cell_type": "code",
   "execution_count": 22,
   "id": "4775e787-844c-40cf-9c6c-3b88e6a37708",
   "metadata": {},
   "outputs": [],
   "source": [
    "# Let's define the eigenvalue\n",
    "alpha = 0.42 # any value between 0 and 1\n",
    "eig0 = np.exp(2*1J*np.pi*alpha)\n",
    "\n",
    "# We create a diagonal operator acting on 1 qubit\n",
    "U = Diagonal([eig0, eig0])"
   ]
  },
  {
   "cell_type": "markdown",
   "id": "4438231f-2991-49b9-bfb0-d8d64bb348bd",
   "metadata": {},
   "source": [
    "Now that our fictious block $U$ is working, let's create the control-U^n block with the following helper:"
   ]
  },
  {
   "cell_type": "code",
   "execution_count": 23,
   "id": "360495e0-7c10-43da-aea6-7ef26fe5c300",
   "metadata": {},
   "outputs": [],
   "source": [
    "def control_U_power_n(U, n):\n",
    "    circuit = QuantumCircuit(1, name=f\"U^{n}\")\n",
    "    \n",
    "    for _ in range(n):\n",
    "        circuit.append(U, [0])\n",
    "    \n",
    "    circuit = transpile(circuit, simulator)\n",
    "    return circuit.control(1)"
   ]
  },
  {
   "cell_type": "markdown",
   "id": "431a312d-6876-46d5-b079-f5dcf4b1d15c",
   "metadata": {},
   "source": [
    "Finally, we create the quantum phase algorithm as follow where the initial vector given in $U$ is here given by $\\lvert \\phi\\rangle = H \\lvert 0 \\rangle$. We will use a precision of 5 bits for our measurement."
   ]
  },
  {
   "cell_type": "code",
   "execution_count": 24,
   "id": "dd519cc7-b208-4213-aa97-4e107782ccd9",
   "metadata": {},
   "outputs": [
    {
     "data": {
      "image/png": "[encoded data removed]",
      "text/plain": [
       "<Figure size 1110x445.48 with 1 Axes>"
      ]
     },
     "execution_count": 24,
     "metadata": {},
     "output_type": "execute_result"
    }
   ],
   "source": [
    "N_measures = 5\n",
    "\n",
    "main_circuit = QuantumCircuit(1+N_measures,N_measures)\n",
    "\n",
    "# Hadamard on qubits measuring the eigenvalue and the qubit of U\n",
    "main_circuit.h(list(range(N_measures+1)))\n",
    "\n",
    "# We apply c-U^(2^i)  \n",
    "for i in range(N_measures):\n",
    "    main_circuit.append(control_U_power_n(U, 1 << i), [i,5])\n",
    "\n",
    "# Inverse QFT gate\n",
    "QFTgate = QFT(num_qubits=N_measures, inverse=True, insert_barriers=False)\n",
    "main_circuit.append(QFTgate, list(range(N_measures)))\n",
    "\n",
    "# Measurement\n",
    "for i in range(N_measures):\n",
    "    main_circuit.measure(i,i)\n",
    "    \n",
    "# Draw the circuit\n",
    "main_circuit.draw(output='mpl')"
   ]
  },
  {
   "cell_type": "markdown",
   "id": "0d7efe37-df92-4d0f-8fe0-5e355a4a28a7",
   "metadata": {},
   "source": [
    "Let's run the circuit and check the output:"
   ]
  },
  {
   "cell_type": "code",
   "execution_count": 25,
   "id": "5b176a2d-e3f8-47f7-9caf-197cd0fe63f6",
   "metadata": {},
   "outputs": [
    {
     "data": {
      "image/png": "[encoded data removed]",
      "text/plain": [
       "<Figure size 504x360 with 1 Axes>"
      ]
     },
     "execution_count": 25,
     "metadata": {},
     "output_type": "execute_result"
    }
   ],
   "source": [
    "tcircuit = transpile(main_circuit, simulator)\n",
    "result = simulator.run(tcircuit, shots=4096).result()\n",
    "counts = result.get_counts(tcircuit)\n",
    "plot_histogram(counts, title='counts')"
   ]
  },
  {
   "cell_type": "markdown",
   "id": "12babd6a-d6a2-4fb0-9df0-16e387a8ab6c",
   "metadata": {},
   "source": [
    "To make things nicer to read, let's create a helper function to convert the binary measure to a float number"
   ]
  },
  {
   "cell_type": "code",
   "execution_count": 26,
   "id": "238b1207-229a-47d5-8824-ea44d10ed1c6",
   "metadata": {},
   "outputs": [],
   "source": [
    "def bin_to_float(s):\n",
    "    a = int(s,2)\n",
    "    alpha = a/(2**N_measures)\n",
    "    return np.round(alpha, 2)"
   ]
  },
  {
   "cell_type": "markdown",
   "id": "f18aff3e-53a6-40d1-b70e-07d242d06c64",
   "metadata": {},
   "source": [
    "Now let's print again the historgram"
   ]
  },
  {
   "cell_type": "code",
   "execution_count": 27,
   "id": "342ecfa4-637c-4143-a689-bbec4d50f297",
   "metadata": {},
   "outputs": [
    {
     "data": {
      "image/png": "[encoded data removed]",
      "text/plain": [
       "<Figure size 504x360 with 1 Axes>"
      ]
     },
     "execution_count": 27,
     "metadata": {},
     "output_type": "execute_result"
    }
   ],
   "source": [
    "plot_histogram({bin_to_float(k):v for k,v in counts.items()})"
   ]
  },
  {
   "cell_type": "markdown",
   "id": "2245b7a5-6e68-4b20-b943-65532b41e2f1",
   "metadata": {},
   "source": [
    "As we can see, $\\alpha$ is revealed through the histogram.\n",
    "\n",
    "What if $U$ has $2$ eigenvalues? Let's check it by creating a second fictitious $U$ gate."
   ]
  },
  {
   "cell_type": "code",
   "execution_count": 28,
   "id": "e72c3423-ebe9-4fbd-bdcf-ad29ea6a2c57",
   "metadata": {},
   "outputs": [],
   "source": [
    "# Create a second eigenvalue\n",
    "beta = 0.27\n",
    "eig1 = np.exp(2*1J*np.pi*beta)\n",
    "\n",
    "# a diagonal block acting on 1 qubit with 2 eigenvalues \n",
    "U_new = Diagonal([eig0, eig1])"
   ]
  },
  {
   "cell_type": "markdown",
   "id": "2a83a4b3-6785-49b9-bff1-b5c40427d2a5",
   "metadata": {},
   "source": [
    "There are now two eigenvalues:\n",
    "* $e^{2i\\pi \\alpha}$ with eigenvector $\\lvert 0 \\rangle$ \n",
    "* $e^{2i\\pi \\beta}$ with eigenvector $\\lvert 1 \\rangle$. \n",
    "\n",
    "By linearity, when initialized with $\\lvert \\phi \\rangle = H \\lvert 0 \\rangle = \\frac{1}{\\sqrt2} \\left(\\lvert 0 \\rangle +\\lvert 1 \\rangle \\right)$, one can expect that sometimes we would make a measurement for the first eigenvalue, and sometimes for the second one. Let's run again our algorithm and check that this is the case."
   ]
  },
  {
   "cell_type": "code",
   "execution_count": 29,
   "id": "85dc37e6-5126-462d-9148-2781463e0f39",
   "metadata": {},
   "outputs": [
    {
     "data": {
      "image/png": "[encoded data removed]",
      "text/plain": [
       "<Figure size 1110x445.48 with 1 Axes>"
      ]
     },
     "execution_count": 29,
     "metadata": {},
     "output_type": "execute_result"
    }
   ],
   "source": [
    "N_measures = 5\n",
    "\n",
    "main_circuit = QuantumCircuit(1+N_measures,N_measures)\n",
    "\n",
    "# Hadamard on qubits measuring the eigenvalue and the qubit of U_new\n",
    "main_circuit.h(list(range(N_measures+1)))\n",
    "\n",
    "# We apply c-U^(2^i)  \n",
    "for i in range(N_measures):\n",
    "    main_circuit.append(control_U_power_n(U_new, 1 << i), [i,5]) # U_new instead of U\n",
    "\n",
    "# Inverse QFT gate\n",
    "QFTgate = QFT(num_qubits=N_measures, inverse=True, insert_barriers=False)\n",
    "main_circuit.append(QFTgate, list(range(N_measures)))\n",
    "\n",
    "# Measurement\n",
    "for i in range(N_measures):\n",
    "    main_circuit.measure(i,i)\n",
    "    \n",
    "# Draw the circuit\n",
    "main_circuit.draw(output='mpl')"
   ]
  },
  {
   "cell_type": "code",
   "execution_count": 30,
   "id": "2438cfca-5043-4ff4-b78f-20c15abe7f87",
   "metadata": {},
   "outputs": [
    {
     "data": {
      "image/png": "[encoded data removed]",
      "text/plain": [
       "<Figure size 504x360 with 1 Axes>"
      ]
     },
     "execution_count": 30,
     "metadata": {},
     "output_type": "execute_result"
    }
   ],
   "source": [
    "tcircuit = transpile(main_circuit, simulator)\n",
    "result = simulator.run(tcircuit, shots=4096).result()\n",
    "counts = result.get_counts(tcircuit)\n",
    "plot_histogram({bin_to_float(k):v for k,v in counts.items()})"
   ]
  },
  {
   "cell_type": "markdown",
   "id": "a3be7ef7-8046-44d5-ae8b-60868f7346c9",
   "metadata": {},
   "source": [
    "This is indeed the case and we can clearly see our eigenvalues.\n",
    "\n"
   ]
  },
  {
   "cell_type": "markdown",
   "id": "67b71a7b-dfe3-4f9c-91df-ec579ac7e251",
   "metadata": {},
   "source": [
    "#### Question 5\n",
    "\n",
    "<span style=\"color:blue\">\n",
    "Now let's see how this fits in with our Grover operator. Remember that the Grover operator $G$ acts as a rotation of angle $2\\theta_0$ in the 2d-subspace spanned by the vectors $\\lvert S \\rangle$ and $\\lvert P \\rangle$.\n",
    "    \n",
    "Show that $G$ has $2$ eigenvalues in that subspace, and express them\n",
    "</span>"
   ]
  },
  {
   "cell_type": "markdown",
   "id": "3a1c37ae-e2e6-4d24-8a25-12a1360d109c",
   "metadata": {},
   "source": [
    "_Write your solution_\n"
   ]
  },
  {
   "cell_type": "markdown",
   "id": "0e57e1e8-ea6d-4b37-9bf8-a97dd02725fb",
   "metadata": {},
   "source": [
    "#### Question 6\n",
    "\n",
    "<span style=\"color:blue\">\n",
    "    Implement the quantum Grover phase estimation algorithm based on a similar construction as before.\n",
    "</span>"
   ]
  },
  {
   "cell_type": "code",
   "execution_count": null,
   "id": "575a339c-1239-4d0e-b95f-9f45ef39e53f",
   "metadata": {},
   "outputs": [],
   "source": [
    "N_measures = 5\n",
    "\n",
    "main_circuit = QuantumCircuit(N_qubits+N_measures,N_measures)\n",
    "\n",
    "######### (BEGIN) Your answer ##################\n",
    "\n",
    "...\n",
    "\n",
    "######### ( END ) Your answer ##################"
   ]
  },
  {
   "cell_type": "markdown",
   "id": "e7ff7ed7-20ec-4337-b50a-9f59fc2aee73",
   "metadata": {},
   "source": [
    "Let's draw your circuit"
   ]
  },
  {
   "cell_type": "code",
   "execution_count": null,
   "id": "14ba61b6-8fa1-4a91-b567-77d2e294c6e8",
   "metadata": {},
   "outputs": [],
   "source": [
    "######### (BEGIN) Your answer ##################\n",
    "\n",
    "...\n",
    "\n",
    "######### ( END ) Your answer ##################"
   ]
  },
  {
   "cell_type": "markdown",
   "id": "94a67bb9-a785-48e1-adfe-14194e806d45",
   "metadata": {},
   "source": [
    "and run and plot the histogram"
   ]
  },
  {
   "cell_type": "code",
   "execution_count": null,
   "id": "316f3d52-afca-44c0-a726-823e62e28ad2",
   "metadata": {},
   "outputs": [],
   "source": [
    "######### (BEGIN) Your answer ##################\n",
    "\n",
    "...\n",
    "\n",
    "######### ( END ) Your answer ##################"
   ]
  },
  {
   "cell_type": "markdown",
   "id": "35239093-9fa1-4af8-9974-f3c9682ad800",
   "metadata": {},
   "source": [
    "#### Question 7\n",
    "\n",
    "<span style=\"color:blue\">\n",
    "    Interpret your results: What do you see and why?\n",
    "</span>"
   ]
  },
  {
   "cell_type": "markdown",
   "id": "4a7ba414-164d-452c-8d7b-2e763abdbc2c",
   "metadata": {},
   "source": [
    "_Your answer_"
   ]
  }
 ],
 "metadata": {
  "kernelspec": {
   "display_name": "Python 3 (ipykernel)",
   "language": "python",
   "name": "python3"
  },
  "language_info": {
   "codemirror_mode": {
    "name": "ipython",
    "version": 3
   },
   "file_extension": ".py",
   "mimetype": "text/x-python",
   "name": "python",
   "nbconvert_exporter": "python",
   "pygments_lexer": "ipython3",
   "version": "3.11.2"
  }
 },
 "nbformat": 4,
 "nbformat_minor": 5
}
